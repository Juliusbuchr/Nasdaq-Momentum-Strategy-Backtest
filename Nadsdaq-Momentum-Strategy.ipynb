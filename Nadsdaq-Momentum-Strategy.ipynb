{
 "cells": [
  {
   "cell_type": "markdown",
   "metadata": {},
   "source": [
    "# Testing Simple Nasdaq Momentum Strategy\n",
    "\n",
    "The idea is to construct the following portfolio each month: \n",
    "\n",
    "(1) Select 50 best performing stocks out of those in Nasdaq based on 12 months pct. change\n",
    "(2) From (1) select the 30 best performing based on 6 months pct. change\n",
    "(3) From (2) select top 10 based on 3 months pct. change"
   ]
  },
  {
   "cell_type": "code",
   "execution_count": 74,
   "metadata": {},
   "outputs": [
    {
     "data": {
      "text/html": [
       "<div>\n",
       "<style scoped>\n",
       "    .dataframe tbody tr th:only-of-type {\n",
       "        vertical-align: middle;\n",
       "    }\n",
       "\n",
       "    .dataframe tbody tr th {\n",
       "        vertical-align: top;\n",
       "    }\n",
       "\n",
       "    .dataframe thead th {\n",
       "        text-align: right;\n",
       "    }\n",
       "</style>\n",
       "<table border=\"1\" class=\"dataframe\">\n",
       "  <thead>\n",
       "    <tr style=\"text-align: right;\">\n",
       "      <th></th>\n",
       "      <th>Company</th>\n",
       "      <th>Ticker</th>\n",
       "      <th>GICS Sector</th>\n",
       "      <th>GICS Sub-Industry</th>\n",
       "    </tr>\n",
       "  </thead>\n",
       "  <tbody>\n",
       "    <tr>\n",
       "      <th>0</th>\n",
       "      <td>Activision Blizzard</td>\n",
       "      <td>ATVI</td>\n",
       "      <td>Communication Services</td>\n",
       "      <td>Interactive Home Entertainment</td>\n",
       "    </tr>\n",
       "    <tr>\n",
       "      <th>1</th>\n",
       "      <td>Adobe Inc.</td>\n",
       "      <td>ADBE</td>\n",
       "      <td>Information Technology</td>\n",
       "      <td>Application Software</td>\n",
       "    </tr>\n",
       "    <tr>\n",
       "      <th>2</th>\n",
       "      <td>ADP</td>\n",
       "      <td>ADP</td>\n",
       "      <td>Information Technology</td>\n",
       "      <td>Data Processing &amp; Outsourced Services</td>\n",
       "    </tr>\n",
       "    <tr>\n",
       "      <th>3</th>\n",
       "      <td>Airbnb</td>\n",
       "      <td>ABNB</td>\n",
       "      <td>Consumer Discretionary</td>\n",
       "      <td>Internet &amp; Direct Marketing Retail</td>\n",
       "    </tr>\n",
       "    <tr>\n",
       "      <th>4</th>\n",
       "      <td>Align Technology</td>\n",
       "      <td>ALGN</td>\n",
       "      <td>Health Care</td>\n",
       "      <td>Health Care Supplies</td>\n",
       "    </tr>\n",
       "  </tbody>\n",
       "</table>\n",
       "</div>"
      ],
      "text/plain": [
       "               Company Ticker             GICS Sector  \\\n",
       "0  Activision Blizzard   ATVI  Communication Services   \n",
       "1           Adobe Inc.   ADBE  Information Technology   \n",
       "2                  ADP    ADP  Information Technology   \n",
       "3               Airbnb   ABNB  Consumer Discretionary   \n",
       "4     Align Technology   ALGN             Health Care   \n",
       "\n",
       "                       GICS Sub-Industry  \n",
       "0         Interactive Home Entertainment  \n",
       "1                   Application Software  \n",
       "2  Data Processing & Outsourced Services  \n",
       "3     Internet & Direct Marketing Retail  \n",
       "4                   Health Care Supplies  "
      ]
     },
     "execution_count": 74,
     "metadata": {},
     "output_type": "execute_result"
    }
   ],
   "source": [
    "# Importing useful libraries\n",
    "\n",
    "import pandas as pd \n",
    "import yfinance as yf \n",
    "import numpy as np \n",
    "import matplotlib.pyplot as plt\n",
    "\n",
    "# Reading stocks that are in NDX \n",
    "\n",
    "pd.read_html(\"https://en.wikipedia.org/wiki/Nasdaq-100\")[4].head()"
   ]
  },
  {
   "cell_type": "code",
   "execution_count": 37,
   "metadata": {},
   "outputs": [
    {
     "data": {
      "text/plain": [
       "['ATVI', 'ADBE', 'ADP', 'ABNB', 'ALGN']"
      ]
     },
     "execution_count": 37,
     "metadata": {},
     "output_type": "execute_result"
    }
   ],
   "source": [
    "# Creating list of tickers\n",
    "\n",
    "ticker_df = pd.read_html(\"https://en.wikipedia.org/wiki/Nasdaq-100\")[4]\n",
    "tickers = ticker_df.Ticker.to_list()\n",
    "tickers[0:5]"
   ]
  },
  {
   "cell_type": "code",
   "execution_count": 38,
   "metadata": {},
   "outputs": [
    {
     "name": "stdout",
     "output_type": "stream",
     "text": [
      "[*********************100%***********************]  102 of 102 completed\n"
     ]
    }
   ],
   "source": [
    "# Downloading data from Yahoo finance API for each ticker to dataframe\n",
    "\n",
    "df = yf.download(tickers, start=\"2010-01-01\")[\"Adj Close\"]"
   ]
  },
  {
   "cell_type": "code",
   "execution_count": 39,
   "metadata": {},
   "outputs": [
    {
     "data": {
      "text/html": [
       "<div>\n",
       "<style scoped>\n",
       "    .dataframe tbody tr th:only-of-type {\n",
       "        vertical-align: middle;\n",
       "    }\n",
       "\n",
       "    .dataframe tbody tr th {\n",
       "        vertical-align: top;\n",
       "    }\n",
       "\n",
       "    .dataframe thead th {\n",
       "        text-align: right;\n",
       "    }\n",
       "</style>\n",
       "<table border=\"1\" class=\"dataframe\">\n",
       "  <thead>\n",
       "    <tr style=\"text-align: right;\">\n",
       "      <th></th>\n",
       "      <th>AAPL</th>\n",
       "      <th>ABNB</th>\n",
       "      <th>ADBE</th>\n",
       "      <th>ADI</th>\n",
       "      <th>ADP</th>\n",
       "      <th>ADSK</th>\n",
       "      <th>AEP</th>\n",
       "      <th>ALGN</th>\n",
       "      <th>AMAT</th>\n",
       "      <th>AMD</th>\n",
       "      <th>...</th>\n",
       "      <th>TSLA</th>\n",
       "      <th>TXN</th>\n",
       "      <th>VRSK</th>\n",
       "      <th>VRSN</th>\n",
       "      <th>VRTX</th>\n",
       "      <th>WBA</th>\n",
       "      <th>WDAY</th>\n",
       "      <th>XEL</th>\n",
       "      <th>ZM</th>\n",
       "      <th>ZS</th>\n",
       "    </tr>\n",
       "    <tr>\n",
       "      <th>Date</th>\n",
       "      <th></th>\n",
       "      <th></th>\n",
       "      <th></th>\n",
       "      <th></th>\n",
       "      <th></th>\n",
       "      <th></th>\n",
       "      <th></th>\n",
       "      <th></th>\n",
       "      <th></th>\n",
       "      <th></th>\n",
       "      <th></th>\n",
       "      <th></th>\n",
       "      <th></th>\n",
       "      <th></th>\n",
       "      <th></th>\n",
       "      <th></th>\n",
       "      <th></th>\n",
       "      <th></th>\n",
       "      <th></th>\n",
       "      <th></th>\n",
       "      <th></th>\n",
       "    </tr>\n",
       "  </thead>\n",
       "  <tbody>\n",
       "    <tr>\n",
       "      <th>2010-01-04</th>\n",
       "      <td>6.515212</td>\n",
       "      <td>NaN</td>\n",
       "      <td>37.090000</td>\n",
       "      <td>23.067619</td>\n",
       "      <td>27.491209</td>\n",
       "      <td>25.670000</td>\n",
       "      <td>21.142136</td>\n",
       "      <td>18.50</td>\n",
       "      <td>11.328531</td>\n",
       "      <td>9.70</td>\n",
       "      <td>...</td>\n",
       "      <td>NaN</td>\n",
       "      <td>18.767342</td>\n",
       "      <td>29.123728</td>\n",
       "      <td>21.007998</td>\n",
       "      <td>44.240002</td>\n",
       "      <td>26.326157</td>\n",
       "      <td>NaN</td>\n",
       "      <td>13.597206</td>\n",
       "      <td>NaN</td>\n",
       "      <td>NaN</td>\n",
       "    </tr>\n",
       "    <tr>\n",
       "      <th>2010-01-05</th>\n",
       "      <td>6.526475</td>\n",
       "      <td>NaN</td>\n",
       "      <td>37.700001</td>\n",
       "      <td>23.031202</td>\n",
       "      <td>27.343584</td>\n",
       "      <td>25.280001</td>\n",
       "      <td>20.900099</td>\n",
       "      <td>18.01</td>\n",
       "      <td>11.241385</td>\n",
       "      <td>9.71</td>\n",
       "      <td>...</td>\n",
       "      <td>NaN</td>\n",
       "      <td>18.659109</td>\n",
       "      <td>29.318857</td>\n",
       "      <td>21.228777</td>\n",
       "      <td>42.779999</td>\n",
       "      <td>26.114428</td>\n",
       "      <td>NaN</td>\n",
       "      <td>13.435949</td>\n",
       "      <td>NaN</td>\n",
       "      <td>NaN</td>\n",
       "    </tr>\n",
       "    <tr>\n",
       "      <th>2010-01-06</th>\n",
       "      <td>6.422665</td>\n",
       "      <td>NaN</td>\n",
       "      <td>37.619999</td>\n",
       "      <td>22.987501</td>\n",
       "      <td>27.279387</td>\n",
       "      <td>25.340000</td>\n",
       "      <td>21.111881</td>\n",
       "      <td>17.48</td>\n",
       "      <td>11.217621</td>\n",
       "      <td>9.57</td>\n",
       "      <td>...</td>\n",
       "      <td>NaN</td>\n",
       "      <td>18.522011</td>\n",
       "      <td>29.699369</td>\n",
       "      <td>20.999506</td>\n",
       "      <td>42.029999</td>\n",
       "      <td>25.916805</td>\n",
       "      <td>NaN</td>\n",
       "      <td>13.461750</td>\n",
       "      <td>NaN</td>\n",
       "      <td>NaN</td>\n",
       "    </tr>\n",
       "    <tr>\n",
       "      <th>2010-01-07</th>\n",
       "      <td>6.410791</td>\n",
       "      <td>NaN</td>\n",
       "      <td>36.889999</td>\n",
       "      <td>22.805407</td>\n",
       "      <td>27.266560</td>\n",
       "      <td>25.480000</td>\n",
       "      <td>21.293415</td>\n",
       "      <td>17.43</td>\n",
       "      <td>11.098791</td>\n",
       "      <td>9.47</td>\n",
       "      <td>...</td>\n",
       "      <td>NaN</td>\n",
       "      <td>18.579739</td>\n",
       "      <td>29.650583</td>\n",
       "      <td>20.710794</td>\n",
       "      <td>41.500000</td>\n",
       "      <td>26.072073</td>\n",
       "      <td>NaN</td>\n",
       "      <td>13.403695</td>\n",
       "      <td>NaN</td>\n",
       "      <td>NaN</td>\n",
       "    </tr>\n",
       "    <tr>\n",
       "      <th>2010-01-08</th>\n",
       "      <td>6.453413</td>\n",
       "      <td>NaN</td>\n",
       "      <td>36.689999</td>\n",
       "      <td>22.936510</td>\n",
       "      <td>27.228045</td>\n",
       "      <td>26.260000</td>\n",
       "      <td>21.547558</td>\n",
       "      <td>17.66</td>\n",
       "      <td>11.526580</td>\n",
       "      <td>9.43</td>\n",
       "      <td>...</td>\n",
       "      <td>NaN</td>\n",
       "      <td>19.005445</td>\n",
       "      <td>29.270075</td>\n",
       "      <td>20.872133</td>\n",
       "      <td>40.669998</td>\n",
       "      <td>26.107363</td>\n",
       "      <td>NaN</td>\n",
       "      <td>13.410148</td>\n",
       "      <td>NaN</td>\n",
       "      <td>NaN</td>\n",
       "    </tr>\n",
       "  </tbody>\n",
       "</table>\n",
       "<p>5 rows × 102 columns</p>\n",
       "</div>"
      ],
      "text/plain": [
       "                AAPL  ABNB       ADBE        ADI        ADP       ADSK  \\\n",
       "Date                                                                     \n",
       "2010-01-04  6.515212   NaN  37.090000  23.067619  27.491209  25.670000   \n",
       "2010-01-05  6.526475   NaN  37.700001  23.031202  27.343584  25.280001   \n",
       "2010-01-06  6.422665   NaN  37.619999  22.987501  27.279387  25.340000   \n",
       "2010-01-07  6.410791   NaN  36.889999  22.805407  27.266560  25.480000   \n",
       "2010-01-08  6.453413   NaN  36.689999  22.936510  27.228045  26.260000   \n",
       "\n",
       "                  AEP   ALGN       AMAT   AMD  ...  TSLA        TXN  \\\n",
       "Date                                           ...                    \n",
       "2010-01-04  21.142136  18.50  11.328531  9.70  ...   NaN  18.767342   \n",
       "2010-01-05  20.900099  18.01  11.241385  9.71  ...   NaN  18.659109   \n",
       "2010-01-06  21.111881  17.48  11.217621  9.57  ...   NaN  18.522011   \n",
       "2010-01-07  21.293415  17.43  11.098791  9.47  ...   NaN  18.579739   \n",
       "2010-01-08  21.547558  17.66  11.526580  9.43  ...   NaN  19.005445   \n",
       "\n",
       "                 VRSK       VRSN       VRTX        WBA  WDAY        XEL  ZM  \\\n",
       "Date                                                                          \n",
       "2010-01-04  29.123728  21.007998  44.240002  26.326157   NaN  13.597206 NaN   \n",
       "2010-01-05  29.318857  21.228777  42.779999  26.114428   NaN  13.435949 NaN   \n",
       "2010-01-06  29.699369  20.999506  42.029999  25.916805   NaN  13.461750 NaN   \n",
       "2010-01-07  29.650583  20.710794  41.500000  26.072073   NaN  13.403695 NaN   \n",
       "2010-01-08  29.270075  20.872133  40.669998  26.107363   NaN  13.410148 NaN   \n",
       "\n",
       "            ZS  \n",
       "Date            \n",
       "2010-01-04 NaN  \n",
       "2010-01-05 NaN  \n",
       "2010-01-06 NaN  \n",
       "2010-01-07 NaN  \n",
       "2010-01-08 NaN  \n",
       "\n",
       "[5 rows x 102 columns]"
      ]
     },
     "execution_count": 39,
     "metadata": {},
     "output_type": "execute_result"
    }
   ],
   "source": [
    "# Checking data \n",
    "df.head()"
   ]
  },
  {
   "cell_type": "code",
   "execution_count": 40,
   "metadata": {},
   "outputs": [],
   "source": [
    "# Cleaning NaN rows \n",
    "\n",
    "df = df.dropna(axis=1)"
   ]
  },
  {
   "cell_type": "code",
   "execution_count": 41,
   "metadata": {},
   "outputs": [],
   "source": [
    "# Getting monthly pct. changes to df \n",
    "\n",
    "monthly_returns =  (df.pct_change()+1)[1:].resample(\"M\").prod()"
   ]
  },
  {
   "cell_type": "code",
   "execution_count": 42,
   "metadata": {},
   "outputs": [],
   "source": [
    "# To do our selection we define a function that calculates-\n",
    "# the monthly rolling return which we need for intervals 3,6,12\n",
    "\n",
    "def rolling_return(df, n): \n",
    "    return df.rolling(n).apply(np.prod)\n",
    "\n",
    "r_3 = rolling_return(monthly_returns, 3)\n",
    "r_6 = rolling_return(monthly_returns, 6)\n",
    "r_12 = rolling_return(monthly_returns, 12)"
   ]
  },
  {
   "cell_type": "code",
   "execution_count": 43,
   "metadata": {},
   "outputs": [],
   "source": [
    "# We now write a function to return top performers of a given date\n",
    "\n",
    "def top_perf(date): \n",
    "    top_50 = r_12.loc[date].nlargest(50).index \n",
    "    top_30 = r_6.loc[date].nlargest(30).index \n",
    "    top_10 = r_3.loc[date].nlargest(10).index\n",
    "    return top_10"
   ]
  },
  {
   "cell_type": "code",
   "execution_count": 54,
   "metadata": {},
   "outputs": [],
   "source": [
    "# And to test we need the actual portfolio performance (we use mean allocation#)\n",
    "\n",
    "def performance(date): \n",
    "    portfolio = monthly_returns.loc[date:, top_perf(date)][1:2]\n",
    "    return portfolio.mean(axis=1).values[0]"
   ]
  },
  {
   "cell_type": "code",
   "execution_count": 109,
   "metadata": {},
   "outputs": [
    {
     "data": {
      "text/plain": [
       "Text(0, 0.5, 'Wealth Factor Index=1')"
      ]
     },
     "execution_count": 109,
     "metadata": {},
     "output_type": "execute_result"
    },
    {
     "data": {
      "image/png": "[encoded data removed]",
      "text/plain": [
       "<Figure size 640x480 with 1 Axes>"
      ]
     },
     "metadata": {},
     "output_type": "display_data"
    }
   ],
   "source": [
    "# Getting returns for each month utilizing the strategy\n",
    "\n",
    "returns = []\n",
    "\n",
    "for date in monthly_returns.index[:-1]: \n",
    "    returns.append(performance(date))\n",
    "\n",
    "# Getting data to series and plotting the cumulative product\n",
    "    \n",
    "pd.Series(returns).cumprod().plot(color=\"Blue\")\n",
    "plt.title(\"Strategy Wealth Accumulation\")\n",
    "plt.xlabel(\"Months\")\n",
    "plt.ylabel(\"Wealth Factor Index=1\")"
   ]
  },
  {
   "cell_type": "code",
   "execution_count": 124,
   "metadata": {},
   "outputs": [
    {
     "name": "stdout",
     "output_type": "stream",
     "text": [
      "[*********************100%***********************]  1 of 1 completed\n"
     ]
    },
    {
     "data": {
      "text/plain": [
       "<AxesSubplot:xlabel='Date'>"
      ]
     },
     "execution_count": 124,
     "metadata": {},
     "output_type": "execute_result"
    },
    {
     "data": {
      "image/png": "[encoded data removed]",
      "text/plain": [
       "<Figure size 640x480 with 1 Axes>"
      ]
     },
     "metadata": {},
     "output_type": "display_data"
    }
   ],
   "source": [
    "# We also need to see it plotted against Nasdaq itself \n",
    "\n",
    "ndx = yf.download(\"^IXIC\", start=\"2010-01-01\")\n",
    "\n",
    "ndx = (ndx.pct_change()+1)[1:].resample(\"M\").prod()\n",
    "\n",
    "ndx_returns = ndx[\"Adj Close\"]\n",
    "\n",
    "pd.Series(ndx_returns).cumprod().plot(color=\"Black\")"
   ]
  },
  {
   "cell_type": "code",
   "execution_count": 125,
   "metadata": {},
   "outputs": [],
   "source": [
    "# And as we can see, the strategy significantly outperforms just owning Nasdaq. Which is quite suprising. "
   ]
  },
  {
   "attachments": {},
   "cell_type": "markdown",
   "metadata": {},
   "source": [
    "Note that this analysis does not take into account transaction costs. "
   ]
  }
 ],
 "metadata": {
  "kernelspec": {
   "display_name": "Python 3 (ipykernel)",
   "language": "python",
   "name": "python3"
  },
  "language_info": {
   "codemirror_mode": {
    "name": "ipython",
    "version": 3
   },
   "file_extension": ".py",
   "mimetype": "text/x-python",
   "name": "python",
   "nbconvert_exporter": "python",
   "pygments_lexer": "ipython3",
   "version": "3.9.13"
  },
  "vscode": {
   "interpreter": {
    "hash": "aee8b7b246df8f9039afb4144a1f6fd8d2ca17a180786b69acc140d282b71a49"
   }
  }
 },
 "nbformat": 4,
 "nbformat_minor": 2
}
